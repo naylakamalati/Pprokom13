{
  "nbformat": 4,
  "nbformat_minor": 0,
  "metadata": {
    "colab": {
      "provenance": [],
      "authorship_tag": "ABX9TyNPcZYl/OX3ZBfTFN9Ed0Mn",
      "include_colab_link": true
    },
    "kernelspec": {
      "name": "python3",
      "display_name": "Python 3"
    },
    "language_info": {
      "name": "python"
    }
  },
  "cells": [
    {
      "cell_type": "markdown",
      "metadata": {
        "id": "view-in-github",
        "colab_type": "text"
      },
      "source": [
        "<a href=\"https://colab.research.google.com/github/naylakamalati/pprokom10/blob/main/Untitled9.ipynb\" target=\"_parent\"><img src=\"https://colab.research.google.com/assets/colab-badge.svg\" alt=\"Open In Colab\"/></a>"
      ]
    },
    {
      "cell_type": "code",
      "execution_count": 1,
      "metadata": {
        "colab": {
          "base_uri": "https://localhost:8080/"
        },
        "id": "o2OLrJT1hrQA",
        "outputId": "f9dcb148-28a5-4607-ffa3-8b72add3caaa"
      },
      "outputs": [
        {
          "output_type": "stream",
          "name": "stdout",
          "text": [
            "Masukkan a: 4\n",
            "Masukkan b: 6\n",
            "Masukkan c: 2\n",
            "Solusinya adalah -0.5 dan -1.0\n"
          ]
        }
      ],
      "source": [
        "# import module matematika math\n",
        "import math\n",
        "# Input koefisien dari keyboard\n",
        "a = int(input(\"Masukkan a: \"))\n",
        "b = int(input(\"Masukkan b: \"))\n",
        "c = int(input(\"Masukkan c: \"))\n",
        "# hitung diskriminan d\n",
        "d = (b**2) - (4*a*c)\n",
        "# menemukan x1 dan x2\n",
        "x1 = (-b+math.sqrt(d))/(2*a)\n",
        "x2 = (-b-math.sqrt(d))/(2*a)\n",
        "print(\"Solusinya adalah {0} dan {1}\".format(x1, x2))"
      ]
    },
    {
      "cell_type": "code",
      "source": [
        "def menu():\n",
        "    print (\"Pilih Bentuk 2D\")\n",
        "    print ()\n",
        "    print (\"1. Persegi Panjang\")\n",
        "    print (\"2. Lingkaran\")\n",
        "    print (\"3. Segitiga\")\n",
        "    print (\"4. Keluar\")\n",
        "    print()\n",
        "\n",
        "def persegi():\n",
        "    print (\"Menghitung Luas Persegi Panjang\")\n",
        "    p = int(input(\"Masukkan Panjang : \"))\n",
        "    l = int(input(\"Masukkan Lebar : \"))\n",
        "    luas = p * l\n",
        "    print (\"Luas Persegi Panjang adalah \", luas)\n",
        "    print ()\n",
        "    print (\"Coba lagi [Y/N]? \")\n",
        "    back = input().upper()\n",
        "    if back == \"Y\":\n",
        "        menu()\n",
        "    else:\n",
        "        print(\"\\n yasudah kalo begitu\")\n",
        "\n",
        "def lingkaran():\n",
        "    print (\"Menghitung Luas Lingkaran\")\n",
        "    r = int(input(\"Masukkan Jari-Jari : \"))\n",
        "    luas = 3.14 * (r**2)\n",
        "    print (\"Luas Lingkaran adalah \", luas)\n",
        "    print ()\n",
        "    print (\"Coba lagi [Y/N]? \")\n",
        "    back = input().upper()\n",
        "    if back == \"Y\":\n",
        "        menu()\n",
        "    else:\n",
        "        print(\"\\n yasudah kalo begitu\")\n",
        "\n",
        "def segitiga():\n",
        "    print (\"Menghitung Luas Segitiga\")\n",
        "    a = int(input(\"Masukkan Alas : \"))\n",
        "    t = int(input(\"Masukkan Tinggi : \"))\n",
        "    luas = (a * t) / 2\n",
        "    print (\"Luas Segitiga adalah \", luas)\n",
        "    print ()\n",
        "    print (\"Coba lagi [Y/N]? \")\n",
        "    back = input().upper()\n",
        "    if back == \"Y\":\n",
        "        menu()\n",
        "    else:\n",
        "        print(\"\\n yasudah kalo begitu\")\n",
        "\n",
        "loop = True\n",
        "while loop:\n",
        "    menu()\n",
        "    pilih = input(\"Masukkan pilihan : \")\n",
        "    if pilih == \"1\":\n",
        "        persegi()\n",
        "    elif pilih == \"2\":\n",
        "        lingkaran()\n",
        "    elif pilih == \"3\":\n",
        "        segitiga()\n",
        "    elif pilih == \"4\":\n",
        "        loop = False\n",
        "        print(\"\\n yasudah kalo begitu\")\n",
        "    else:\n",
        "        print(\"Maaf, pilihan yang anda masukkan tidak terdaftar\")"
      ],
      "metadata": {
        "colab": {
          "base_uri": "https://localhost:8080/"
        },
        "id": "Lge7Y6Cghsp-",
        "outputId": "d73fd958-47dc-4a19-97f3-0cc6c0552608"
      },
      "execution_count": 2,
      "outputs": [
        {
          "output_type": "stream",
          "name": "stdout",
          "text": [
            "Pilih Bentuk 2D\n",
            "\n",
            "1. Persegi Panjang\n",
            "2. Lingkaran\n",
            "3. Segitiga\n",
            "4. Keluar\n",
            "\n",
            "Masukkan pilihan : 1\n",
            "Menghitung Luas Persegi Panjang\n",
            "Masukkan Panjang : 4\n",
            "Masukkan Lebar : 8\n",
            "Luas Persegi Panjang adalah  32\n",
            "\n",
            "Coba lagi [Y/N]? \n",
            "y\n",
            "Pilih Bentuk 2D\n",
            "\n",
            "1. Persegi Panjang\n",
            "2. Lingkaran\n",
            "3. Segitiga\n",
            "4. Keluar\n",
            "\n",
            "Pilih Bentuk 2D\n",
            "\n",
            "1. Persegi Panjang\n",
            "2. Lingkaran\n",
            "3. Segitiga\n",
            "4. Keluar\n",
            "\n",
            "Masukkan pilihan : 2\n",
            "Menghitung Luas Lingkaran\n",
            "Masukkan Jari-Jari : 5\n",
            "Luas Lingkaran adalah  78.5\n",
            "\n",
            "Coba lagi [Y/N]? \n",
            "y\n",
            "Pilih Bentuk 2D\n",
            "\n",
            "1. Persegi Panjang\n",
            "2. Lingkaran\n",
            "3. Segitiga\n",
            "4. Keluar\n",
            "\n",
            "Pilih Bentuk 2D\n",
            "\n",
            "1. Persegi Panjang\n",
            "2. Lingkaran\n",
            "3. Segitiga\n",
            "4. Keluar\n",
            "\n",
            "Masukkan pilihan : 3\n",
            "Menghitung Luas Segitiga\n",
            "Masukkan Alas : 12\n",
            "Masukkan Tinggi : 4\n",
            "Luas Segitiga adalah  24.0\n",
            "\n",
            "Coba lagi [Y/N]? \n",
            "y\n",
            "Pilih Bentuk 2D\n",
            "\n",
            "1. Persegi Panjang\n",
            "2. Lingkaran\n",
            "3. Segitiga\n",
            "4. Keluar\n",
            "\n",
            "Pilih Bentuk 2D\n",
            "\n",
            "1. Persegi Panjang\n",
            "2. Lingkaran\n",
            "3. Segitiga\n",
            "4. Keluar\n",
            "\n",
            "Masukkan pilihan : 4\n",
            "\n",
            " yasudah kalo begitu\n"
          ]
        }
      ]
    },
    {
      "cell_type": "code",
      "source": [
        "\n"
      ],
      "metadata": {
        "id": "vSGVdZTIh2Wa"
      },
      "execution_count": null,
      "outputs": []
    }
  ]
}